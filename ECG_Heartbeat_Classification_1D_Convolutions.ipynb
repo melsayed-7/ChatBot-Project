{
  "nbformat": 4,
  "nbformat_minor": 0,
  "metadata": {
    "colab": {
      "name": "ECG_Heartbeat_Classification_1D_Convolutions.ipynb",
      "version": "0.3.2",
      "provenance": [],
      "include_colab_link": true
    },
    "kernelspec": {
      "name": "python3",
      "display_name": "Python 3"
    },
    "accelerator": "GPU"
  },
  "cells": [
    {
      "cell_type": "markdown",
      "metadata": {
        "id": "view-in-github",
        "colab_type": "text"
      },
      "source": [
        "<a href=\"https://colab.research.google.com/github/moustafa-7/ChatBot-Project/blob/master/ECG_Heartbeat_Classification_1D_Convolutions.ipynb\" target=\"_parent\"><img src=\"https://colab.research.google.com/assets/colab-badge.svg\" alt=\"Open In Colab\"/></a>"
      ]
    },
    {
      "cell_type": "code",
      "metadata": {
        "id": "w7XjyCxkIRPa",
        "colab_type": "code",
        "colab": {
          "base_uri": "https://localhost:8080/",
          "height": 224
        },
        "outputId": "af026a5a-4471-47d1-d9c4-8c14a2208792"
      },
      "source": [
        "!wget --header=\"Host: storage.googleapis.com\" --header=\"User-Agent: Mozilla/5.0 (Windows NT 10.0; Win64; x64) AppleWebKit/537.36 (KHTML, like Gecko) Chrome/76.0.3809.100 Safari/537.36\" --header=\"Accept: text/html,application/xhtml+xml,application/xml;q=0.9,image/webp,image/apng,*/*;q=0.8,application/signed-exchange;v=b3\" --header=\"Accept-Language: en-US,en;q=0.9\" --header=\"Referer: https://www.kaggle.com/\" \"https://storage.googleapis.com/kaggle-datasets/29414/37484/heartbeat.zip?GoogleAccessId=web-data@kaggle-161607.iam.gserviceaccount.com&Expires=1567102733&Signature=etKL7luuxEKCg7LvbNucUpRZlwHsDFp%2Fm4CD3O7brD9VoBR0tFM9tlIATVS00LNujJbMM0sy7KYrQEVfP%2BCOJBqpUvyJrpW%2BnlZhajWgW37W0zOBICJ8K1oRiUxwW0jeRThP8JqkqLpbDH1HxRWpy%2FmOEvOr1sc%2Fkod3W28gnc9AdzkaH9MV27tZVmgtWaIGtgr1ukvs5b5WFMXfAujR49Fhndy9VoY%2BUZSZbG8gaebDfqAafIU6E6DOUeHGV2mlSdGAQOjx%2FBd3WG36m924wovmORkaosXm59uCd9fg8F9Qz8YdXJKS5MfYTXbjYv2g9tXM1uBSt7xznhMMvovZ2Q%3D%3D\" -O \"heartbeat.zip\" -c"
      ],
      "execution_count": 1,
      "outputs": [
        {
          "output_type": "stream",
          "text": [
            "--2019-08-26 18:19:15--  https://storage.googleapis.com/kaggle-datasets/29414/37484/heartbeat.zip?GoogleAccessId=web-data@kaggle-161607.iam.gserviceaccount.com&Expires=1567102733&Signature=etKL7luuxEKCg7LvbNucUpRZlwHsDFp%2Fm4CD3O7brD9VoBR0tFM9tlIATVS00LNujJbMM0sy7KYrQEVfP%2BCOJBqpUvyJrpW%2BnlZhajWgW37W0zOBICJ8K1oRiUxwW0jeRThP8JqkqLpbDH1HxRWpy%2FmOEvOr1sc%2Fkod3W28gnc9AdzkaH9MV27tZVmgtWaIGtgr1ukvs5b5WFMXfAujR49Fhndy9VoY%2BUZSZbG8gaebDfqAafIU6E6DOUeHGV2mlSdGAQOjx%2FBd3WG36m924wovmORkaosXm59uCd9fg8F9Qz8YdXJKS5MfYTXbjYv2g9tXM1uBSt7xznhMMvovZ2Q%3D%3D\n",
            "Resolving storage.googleapis.com (storage.googleapis.com)... 74.125.203.128, 2404:6800:4008:c07::80\n",
            "Connecting to storage.googleapis.com (storage.googleapis.com)|74.125.203.128|:443... connected.\n",
            "HTTP request sent, awaiting response... 200 OK\n",
            "Length: 103633608 (99M) [application/zip]\n",
            "Saving to: ‘heartbeat.zip’\n",
            "\n",
            "heartbeat.zip       100%[===================>]  98.83M  37.9MB/s    in 2.6s    \n",
            "\n",
            "2019-08-26 18:19:18 (37.9 MB/s) - ‘heartbeat.zip’ saved [103633608/103633608]\n",
            "\n"
          ],
          "name": "stdout"
        }
      ]
    },
    {
      "cell_type": "code",
      "metadata": {
        "id": "SRQW7IhjJyP7",
        "colab_type": "code",
        "colab": {
          "base_uri": "https://localhost:8080/",
          "height": 102
        },
        "outputId": "d9ca9cdf-5b81-4034-8d19-89f7d814441f"
      },
      "source": [
        "!unzip heartbeat.zip -d data"
      ],
      "execution_count": 2,
      "outputs": [
        {
          "output_type": "stream",
          "text": [
            "Archive:  heartbeat.zip\n",
            "  inflating: data/ptbdb_abnormal.csv  \n",
            "  inflating: data/mitbih_train.csv   \n",
            "  inflating: data/ptbdb_normal.csv   \n",
            "  inflating: data/mitbih_test.csv    \n"
          ],
          "name": "stdout"
        }
      ]
    },
    {
      "cell_type": "code",
      "metadata": {
        "id": "_ei7PABgKtZ-",
        "colab_type": "code",
        "colab": {}
      },
      "source": [
        "import pandas as pd\n",
        "import numpy as np\n",
        "\n",
        "import keras\n",
        "from keras import optimizers, losses, activations, models\n",
        "from keras.callbacks import ModelCheckpoint, EarlyStopping, LearningRateScheduler,ReduceLROnPlateau\n",
        "\n",
        "from keras.layers import Dense, Input, Dropout, Convolution1D, MaxPool1D, GlobalMaxPooling1D, GlobalAveragePooling1D, concatenate\n",
        "  \n",
        "import sklearn\n",
        "from sklearn.metrics import f1_score, accuracy_score\n"
      ],
      "execution_count": 0,
      "outputs": []
    },
    {
      "cell_type": "code",
      "metadata": {
        "id": "C3_3dMTKV8lo",
        "colab_type": "code",
        "colab": {}
      },
      "source": [
        "df_train = pd.read_csv('data/mitbih_train.csv', header = None)\n",
        "\n",
        "#To shuffle the training data.\n",
        "df_train = df_train.sample(frac = 1)\n",
        "\n",
        "# reading \n",
        "df_test = pd.read_csv('data/mitbih_test.csv', header = None)"
      ],
      "execution_count": 0,
      "outputs": []
    },
    {
      "cell_type": "code",
      "metadata": {
        "id": "diBwwX6XYb95",
        "colab_type": "code",
        "colab": {}
      },
      "source": [
        "# now transforming the data to an np array\n",
        "X = np.array(df_train[list(range(187))].values)[..., np.newaxis]\n",
        "Y = np.array(df_train[187].values).astype(np.int8)\n",
        "\n",
        "X_test = np.array(df_test[list(range(187))].values)[... , np.newaxis]\n",
        "Y_test = np.array(df_test[187].values).astype(np.int8)\n"
      ],
      "execution_count": 0,
      "outputs": []
    },
    {
      "cell_type": "code",
      "metadata": {
        "id": "vb1817LXdkrP",
        "colab_type": "code",
        "colab": {
          "base_uri": "https://localhost:8080/",
          "height": 34
        },
        "outputId": "ecc49690-7062-40b5-e304-f2441cca229f"
      },
      "source": [
        "X[0].shape"
      ],
      "execution_count": 17,
      "outputs": [
        {
          "output_type": "execute_result",
          "data": {
            "text/plain": [
              "(187, 1)"
            ]
          },
          "metadata": {
            "tags": []
          },
          "execution_count": 17
        }
      ]
    },
    {
      "cell_type": "code",
      "metadata": {
        "id": "mp2LBHdnYb8R",
        "colab_type": "code",
        "colab": {}
      },
      "source": [
        "# now defining the model\n",
        "\n",
        "def get_model():\n",
        "  n_classes = 5\n",
        "  input_data = Input(shape = [187,1],)\n",
        "  \n",
        "  inp = Convolution1D(16, kernel_size = 5, activation = activations.relu, padding= 'valid')(input_data)\n",
        "  inp = Convolution1D(16, kernel_size = 5, activation = activations.relu, padding = 'valid')(inp)\n",
        "  \n",
        "  inp = MaxPool1D(pool_size = 2, padding = 'valid')(inp)\n",
        "  \n",
        "  inp = Dropout(rate = 0.1)(inp)\n",
        "  \n",
        "  inp = Convolution1D(32, kernel_size = 3, activation = activations.relu, padding = 'valid')(inp)\n",
        "  inp = Convolution1D(32, kernel_size = 3, activation = activations.relu, padding = 'valid')(inp)\n",
        "  \n",
        "  inp = MaxPool1D(pool_size = 2)(inp)\n",
        "  \n",
        "  inp = Dropout(rate = 0.1)(inp)\n",
        "  \n",
        "  inp = Convolution1D(32, kernel_size = 3, activation = activations.relu, padding = 'valid')(inp)\n",
        "  inp = Convolution1D(32, kernel_size = 3, activation = activations.relu, padding = 'valid')(inp)\n",
        "  \n",
        "  inp = MaxPool1D(pool_size = 2)(inp)\n",
        "  \n",
        "  inp = Dropout(rate = 0.1)(inp)\n",
        "  \n",
        "  inp = Convolution1D(256, kernel_size = 3, activation = activations.relu, padding = 'valid')(inp)\n",
        "  inp = Convolution1D(256, kernel_size = 3, activation = activations.relu, padding = 'valid')(inp)\n",
        "  \n",
        "  inp = GlobalMaxPooling1D()(inp)\n",
        "  \n",
        "  inp = Dropout(rate = 0.1)(inp)\n",
        "  \n",
        "  dense_1 = Dense(64, activation = activations.relu, name = 'dense_1')(inp)\n",
        "  dense_2 = Dense(64, activation = activations.relu, name = 'dense_2')(dense_1)\n",
        "  \n",
        "  dense_2 = Dense(n_classes, activation = activations.softmax, name = 'output')(dense_2)\n",
        "  \n",
        "  \n",
        "  model = models.Model(inputs = input_data, outputs = dense_2)\n",
        "  \n",
        "  optimizer = optimizers.Adam(0.001) # learning_rate = 0.001\n",
        "  \n",
        "  model.compile(optimizer = optimizer, loss = losses.sparse_categorical_crossentropy, metrics = ['acc'])\n",
        "  \n",
        "  model.summary()\n",
        "  \n",
        "  return model\n",
        "  "
      ],
      "execution_count": 0,
      "outputs": []
    },
    {
      "cell_type": "code",
      "metadata": {
        "id": "hgC04PajYb5D",
        "colab_type": "code",
        "colab": {
          "base_uri": "https://localhost:8080/",
          "height": 816
        },
        "outputId": "6ae3d176-ab46-4562-9be4-7a55a03f5bcf"
      },
      "source": [
        "model = get_model()"
      ],
      "execution_count": 30,
      "outputs": [
        {
          "output_type": "stream",
          "text": [
            "_________________________________________________________________\n",
            "Layer (type)                 Output Shape              Param #   \n",
            "=================================================================\n",
            "input_6 (InputLayer)         (None, 187, 1)            0         \n",
            "_________________________________________________________________\n",
            "conv1d_34 (Conv1D)           (None, 183, 16)           96        \n",
            "_________________________________________________________________\n",
            "conv1d_35 (Conv1D)           (None, 179, 16)           1296      \n",
            "_________________________________________________________________\n",
            "max_pooling1d_13 (MaxPooling (None, 89, 16)            0         \n",
            "_________________________________________________________________\n",
            "dropout_17 (Dropout)         (None, 89, 16)            0         \n",
            "_________________________________________________________________\n",
            "conv1d_36 (Conv1D)           (None, 87, 32)            1568      \n",
            "_________________________________________________________________\n",
            "conv1d_37 (Conv1D)           (None, 85, 32)            3104      \n",
            "_________________________________________________________________\n",
            "max_pooling1d_14 (MaxPooling (None, 42, 32)            0         \n",
            "_________________________________________________________________\n",
            "dropout_18 (Dropout)         (None, 42, 32)            0         \n",
            "_________________________________________________________________\n",
            "conv1d_38 (Conv1D)           (None, 40, 32)            3104      \n",
            "_________________________________________________________________\n",
            "conv1d_39 (Conv1D)           (None, 38, 32)            3104      \n",
            "_________________________________________________________________\n",
            "max_pooling1d_15 (MaxPooling (None, 19, 32)            0         \n",
            "_________________________________________________________________\n",
            "dropout_19 (Dropout)         (None, 19, 32)            0         \n",
            "_________________________________________________________________\n",
            "conv1d_40 (Conv1D)           (None, 17, 256)           24832     \n",
            "_________________________________________________________________\n",
            "conv1d_41 (Conv1D)           (None, 15, 256)           196864    \n",
            "_________________________________________________________________\n",
            "global_max_pooling1d_5 (Glob (None, 256)               0         \n",
            "_________________________________________________________________\n",
            "dropout_20 (Dropout)         (None, 256)               0         \n",
            "_________________________________________________________________\n",
            "dense_1 (Dense)              (None, 64)                16448     \n",
            "_________________________________________________________________\n",
            "dense_2 (Dense)              (None, 64)                4160      \n",
            "_________________________________________________________________\n",
            "output (Dense)               (None, 5)                 325       \n",
            "=================================================================\n",
            "Total params: 254,901\n",
            "Trainable params: 254,901\n",
            "Non-trainable params: 0\n",
            "_________________________________________________________________\n"
          ],
          "name": "stdout"
        }
      ]
    },
    {
      "cell_type": "code",
      "metadata": {
        "id": "gb_evfV1Yb2N",
        "colab_type": "code",
        "colab": {}
      },
      "source": [
        "file_path = \"cnn_1d_mitbih.h5\""
      ],
      "execution_count": 0,
      "outputs": []
    },
    {
      "cell_type": "code",
      "metadata": {
        "id": "wX5CeISJkpyb",
        "colab_type": "code",
        "colab": {}
      },
      "source": [
        "checkpoint = ModelCheckpoint(file_path, monitor = 'val_acc', verbose = 1, save_best_only = True, mode = 'max')"
      ],
      "execution_count": 0,
      "outputs": []
    },
    {
      "cell_type": "code",
      "metadata": {
        "id": "-8hRbgxNlND7",
        "colab_type": "code",
        "colab": {}
      },
      "source": [
        "early_stopping = EarlyStopping(monitor = 'val_acc', verbose = 1, mode = 'max', patience = 5)"
      ],
      "execution_count": 0,
      "outputs": []
    },
    {
      "cell_type": "code",
      "metadata": {
        "id": "hdv9C7o_lM5c",
        "colab_type": "code",
        "colab": {}
      },
      "source": [
        "red_on_plateau = ReduceLROnPlateau(monitor = 'val_acc', factor = 0.2, patience = 3, mode = 'max', min_lr = 0.001, verbose = 1)"
      ],
      "execution_count": 0,
      "outputs": []
    },
    {
      "cell_type": "code",
      "metadata": {
        "id": "YxULi86cma8C",
        "colab_type": "code",
        "colab": {}
      },
      "source": [
        "callbacks_list = [checkpoint, early_stopping, red_on_plateau]"
      ],
      "execution_count": 0,
      "outputs": []
    },
    {
      "cell_type": "code",
      "metadata": {
        "id": "Kayh1bkbmk-v",
        "colab_type": "code",
        "colab": {
          "base_uri": "https://localhost:8080/",
          "height": 1000
        },
        "outputId": "13166952-d52b-48b6-f22d-eaa7261a3286"
      },
      "source": [
        "model.fit(X, Y, epochs = 1000, callbacks = callbacks_list, validation_split = 0.1)\n",
        "model.load_weights(file_path)"
      ],
      "execution_count": 37,
      "outputs": [
        {
          "output_type": "stream",
          "text": [
            "Train on 78798 samples, validate on 8756 samples\n",
            "Epoch 1/1000\n",
            "78798/78798 [==============================] - 33s 414us/step - loss: 0.2819 - acc: 0.9214 - val_loss: 0.2024 - val_acc: 0.9468\n",
            "\n",
            "Epoch 00001: val_acc improved from -inf to 0.94678, saving model to cnn_1d_mitbih.h5\n",
            "Epoch 2/1000\n",
            "78798/78798 [==============================] - 32s 410us/step - loss: 0.1746 - acc: 0.9518 - val_loss: 0.1474 - val_acc: 0.9583\n",
            "\n",
            "Epoch 00002: val_acc improved from 0.94678 to 0.95831, saving model to cnn_1d_mitbih.h5\n",
            "Epoch 3/1000\n",
            "78798/78798 [==============================] - 32s 407us/step - loss: 0.1443 - acc: 0.9605 - val_loss: 0.1214 - val_acc: 0.9671\n",
            "\n",
            "Epoch 00003: val_acc improved from 0.95831 to 0.96711, saving model to cnn_1d_mitbih.h5\n",
            "Epoch 4/1000\n",
            "78798/78798 [==============================] - 32s 406us/step - loss: 0.1284 - acc: 0.9651 - val_loss: 0.1144 - val_acc: 0.9688\n",
            "\n",
            "Epoch 00004: val_acc improved from 0.96711 to 0.96882, saving model to cnn_1d_mitbih.h5\n",
            "Epoch 5/1000\n",
            "78798/78798 [==============================] - 32s 407us/step - loss: 0.1163 - acc: 0.9685 - val_loss: 0.0884 - val_acc: 0.9762\n",
            "\n",
            "Epoch 00005: val_acc improved from 0.96882 to 0.97624, saving model to cnn_1d_mitbih.h5\n",
            "Epoch 6/1000\n",
            "78798/78798 [==============================] - 32s 405us/step - loss: 0.1044 - acc: 0.9713 - val_loss: 0.0905 - val_acc: 0.9767\n",
            "\n",
            "Epoch 00006: val_acc improved from 0.97624 to 0.97670, saving model to cnn_1d_mitbih.h5\n",
            "Epoch 7/1000\n",
            "78798/78798 [==============================] - 32s 406us/step - loss: 0.0967 - acc: 0.9734 - val_loss: 0.0768 - val_acc: 0.9792\n",
            "\n",
            "Epoch 00007: val_acc improved from 0.97670 to 0.97921, saving model to cnn_1d_mitbih.h5\n",
            "Epoch 8/1000\n",
            "78798/78798 [==============================] - 32s 408us/step - loss: 0.0908 - acc: 0.9743 - val_loss: 0.0759 - val_acc: 0.9784\n",
            "\n",
            "Epoch 00008: val_acc did not improve from 0.97921\n",
            "Epoch 9/1000\n",
            "78798/78798 [==============================] - 32s 411us/step - loss: 0.0868 - acc: 0.9757 - val_loss: 0.0715 - val_acc: 0.9804\n",
            "\n",
            "Epoch 00009: val_acc improved from 0.97921 to 0.98036, saving model to cnn_1d_mitbih.h5\n",
            "Epoch 10/1000\n",
            "78798/78798 [==============================] - 32s 404us/step - loss: 0.0825 - acc: 0.9765 - val_loss: 0.0689 - val_acc: 0.9810\n",
            "\n",
            "Epoch 00010: val_acc improved from 0.98036 to 0.98104, saving model to cnn_1d_mitbih.h5\n",
            "Epoch 11/1000\n",
            "78798/78798 [==============================] - 32s 407us/step - loss: 0.0785 - acc: 0.9772 - val_loss: 0.0687 - val_acc: 0.9825\n",
            "\n",
            "Epoch 00011: val_acc improved from 0.98104 to 0.98253, saving model to cnn_1d_mitbih.h5\n",
            "Epoch 12/1000\n",
            "78798/78798 [==============================] - 32s 404us/step - loss: 0.0766 - acc: 0.9784 - val_loss: 0.0732 - val_acc: 0.9807\n",
            "\n",
            "Epoch 00012: val_acc did not improve from 0.98253\n",
            "Epoch 13/1000\n",
            "78798/78798 [==============================] - 32s 409us/step - loss: 0.0745 - acc: 0.9787 - val_loss: 0.0691 - val_acc: 0.9820\n",
            "\n",
            "Epoch 00013: val_acc did not improve from 0.98253\n",
            "Epoch 14/1000\n",
            "78798/78798 [==============================] - 32s 408us/step - loss: 0.0706 - acc: 0.9791 - val_loss: 0.0606 - val_acc: 0.9837\n",
            "\n",
            "Epoch 00014: val_acc improved from 0.98253 to 0.98367, saving model to cnn_1d_mitbih.h5\n",
            "Epoch 15/1000\n",
            "78798/78798 [==============================] - 32s 406us/step - loss: 0.0684 - acc: 0.9798 - val_loss: 0.0654 - val_acc: 0.9824\n",
            "\n",
            "Epoch 00015: val_acc did not improve from 0.98367\n",
            "Epoch 16/1000\n",
            "78798/78798 [==============================] - 32s 409us/step - loss: 0.0678 - acc: 0.9801 - val_loss: 0.0625 - val_acc: 0.9817\n",
            "\n",
            "Epoch 00016: val_acc did not improve from 0.98367\n",
            "Epoch 17/1000\n",
            "78798/78798 [==============================] - 32s 407us/step - loss: 0.0645 - acc: 0.9813 - val_loss: 0.0565 - val_acc: 0.9846\n",
            "\n",
            "Epoch 00017: val_acc improved from 0.98367 to 0.98458, saving model to cnn_1d_mitbih.h5\n",
            "Epoch 18/1000\n",
            "78798/78798 [==============================] - 32s 407us/step - loss: 0.0641 - acc: 0.9811 - val_loss: 0.0582 - val_acc: 0.9833\n",
            "\n",
            "Epoch 00018: val_acc did not improve from 0.98458\n",
            "Epoch 19/1000\n",
            "78798/78798 [==============================] - 32s 411us/step - loss: 0.0606 - acc: 0.9815 - val_loss: 0.0583 - val_acc: 0.9844\n",
            "\n",
            "Epoch 00019: val_acc did not improve from 0.98458\n",
            "Epoch 20/1000\n",
            "78798/78798 [==============================] - 32s 409us/step - loss: 0.0600 - acc: 0.9824 - val_loss: 0.0591 - val_acc: 0.9840\n",
            "\n",
            "Epoch 00020: val_acc did not improve from 0.98458\n",
            "\n",
            "Epoch 00020: ReduceLROnPlateau reducing learning rate to 0.001.\n",
            "Epoch 21/1000\n",
            "78798/78798 [==============================] - 33s 413us/step - loss: 0.0597 - acc: 0.9827 - val_loss: 0.0578 - val_acc: 0.9846\n",
            "\n",
            "Epoch 00021: val_acc did not improve from 0.98458\n",
            "Epoch 22/1000\n",
            "78798/78798 [==============================] - 32s 405us/step - loss: 0.0594 - acc: 0.9823 - val_loss: 0.0530 - val_acc: 0.9856\n",
            "\n",
            "Epoch 00022: val_acc improved from 0.98458 to 0.98561, saving model to cnn_1d_mitbih.h5\n",
            "Epoch 23/1000\n",
            "78798/78798 [==============================] - 32s 406us/step - loss: 0.0561 - acc: 0.9832 - val_loss: 0.0588 - val_acc: 0.9833\n",
            "\n",
            "Epoch 00023: val_acc did not improve from 0.98561\n",
            "Epoch 24/1000\n",
            "78798/78798 [==============================] - 32s 409us/step - loss: 0.0570 - acc: 0.9831 - val_loss: 0.0506 - val_acc: 0.9849\n",
            "\n",
            "Epoch 00024: val_acc did not improve from 0.98561\n",
            "Epoch 25/1000\n",
            "78798/78798 [==============================] - 32s 411us/step - loss: 0.0560 - acc: 0.9829 - val_loss: 0.0584 - val_acc: 0.9850\n",
            "\n",
            "Epoch 00025: val_acc did not improve from 0.98561\n",
            "\n",
            "Epoch 00025: ReduceLROnPlateau reducing learning rate to 0.001.\n",
            "Epoch 26/1000\n",
            "78798/78798 [==============================] - 32s 410us/step - loss: 0.0554 - acc: 0.9830 - val_loss: 0.0625 - val_acc: 0.9834\n",
            "\n",
            "Epoch 00026: val_acc did not improve from 0.98561\n",
            "Epoch 27/1000\n",
            "78798/78798 [==============================] - 32s 410us/step - loss: 0.0537 - acc: 0.9843 - val_loss: 0.0524 - val_acc: 0.9854\n",
            "\n",
            "Epoch 00027: val_acc did not improve from 0.98561\n",
            "Epoch 00027: early stopping\n"
          ],
          "name": "stdout"
        }
      ]
    },
    {
      "cell_type": "code",
      "metadata": {
        "id": "63Htn7TCnId_",
        "colab_type": "code",
        "colab": {
          "base_uri": "https://localhost:8080/",
          "height": 51
        },
        "outputId": "3f9e22e9-e943-4c68-ac87-f5c0a4280c25"
      },
      "source": [
        "pred_test = model.predict(X_test)\n",
        "pred_test = np.argmax(pred_test, axis = -1)\n",
        "\n",
        "f1 = f1_score(Y_test, pred_test, average = 'macro')\n",
        "\n",
        "print(\"Test F1 score: {}\".format(f1))\n",
        "\n",
        "acc = accuracy_score(Y_test, pred_test)\n",
        "print(\"Test accuracy: {}\".format(acc))"
      ],
      "execution_count": 39,
      "outputs": [
        {
          "output_type": "stream",
          "text": [
            "Test F1 score: 0.902715327147407\n",
            "Test accuracy: 0.982733418600402\n"
          ],
          "name": "stdout"
        }
      ]
    },
    {
      "cell_type": "code",
      "metadata": {
        "id": "bn4Gu6RBraZS",
        "colab_type": "code",
        "colab": {}
      },
      "source": [
        ""
      ],
      "execution_count": 0,
      "outputs": []
    }
  ]
}