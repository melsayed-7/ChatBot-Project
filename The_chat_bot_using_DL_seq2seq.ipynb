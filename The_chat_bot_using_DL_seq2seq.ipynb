{
  "nbformat": 4,
  "nbformat_minor": 0,
  "metadata": {
    "colab": {
      "name": "The chat bot using DL",
      "version": "0.3.2",
      "provenance": [],
      "collapsed_sections": [],
      "include_colab_link": true
    },
    "kernelspec": {
      "name": "python3",
      "display_name": "Python 3"
    },
    "accelerator": "GPU"
  },
  "cells": [
    {
      "cell_type": "markdown",
      "metadata": {
        "id": "view-in-github",
        "colab_type": "text"
      },
      "source": [
        "<a href=\"https://colab.research.google.com/github/moustafa-7/ChatBot-Project/blob/master/The_chat_bot_using_DL_seq2seq.ipynb\" target=\"_parent\"><img src=\"https://colab.research.google.com/assets/colab-badge.svg\" alt=\"Open In Colab\"/></a>"
      ]
    },
    {
      "cell_type": "code",
      "metadata": {
        "id": "bGik37-3W8SZ",
        "colab_type": "code",
        "colab": {}
      },
      "source": [
        "import numpy as np\n",
        "import pandas as pd\n",
        "import string\n",
        "import pickle\n",
        "import operator\n",
        "import matplotlib.pyplot as plt\n",
        "%matplotlib inline"
      ],
      "execution_count": 0,
      "outputs": []
    },
    {
      "cell_type": "code",
      "metadata": {
        "id": "EmJ1ASv2hmOa",
        "colab_type": "code",
        "colab": {}
      },
      "source": [
        "import codecs\n",
        "#!wget -c http://www.cs.cornell.edu/~cristian/data/cornell_movie_dialogs_corpus.zip\n",
        "#!unzip cornell_movie_dialogs_corpus.zip\n",
        "with codecs.open(\"cornell movie-dialogs corpus/movie_lines.txt\", \"rb\", encoding=\"utf-8\", errors=\"ignore\") as f:\n",
        "    lines = f.read().split(\"\\n\")\n",
        "    conversations = []\n",
        "    for line in lines:\n",
        "        data = line.split(\" +++$+++ \")\n",
        "        conversations.append(data)"
      ],
      "execution_count": 0,
      "outputs": []
    },
    {
      "cell_type": "code",
      "metadata": {
        "id": "6nAYtzh0h31a",
        "colab_type": "code",
        "colab": {}
      },
      "source": [
        "chats = {}\n",
        "for tokens in conversations:\n",
        "  if len(tokens)>4:\n",
        "    idx = tokens[0][1:]\n",
        "    chat = tokens[4]\n",
        "    chats [int(idx)] = chat"
      ],
      "execution_count": 0,
      "outputs": []
    },
    {
      "cell_type": "code",
      "metadata": {
        "id": "_MhIx5gzi7PV",
        "colab_type": "code",
        "colab": {}
      },
      "source": [
        "sorted_chats = sorted(chats.items(), key = lambda x: x[0])\n",
        "#sorted_chats"
      ],
      "execution_count": 0,
      "outputs": []
    },
    {
      "cell_type": "code",
      "metadata": {
        "id": "TcmObjb7sYMk",
        "colab_type": "code",
        "colab": {}
      },
      "source": [
        "conves_dict = {}\n",
        "counter = 1\n",
        "conves_ids = []\n",
        "for i in range(1, len(sorted_chats)+1):\n",
        "    if i < len(sorted_chats):\n",
        "        if (sorted_chats[i][0] - sorted_chats[i-1][0]) == 1:\n",
        "            if sorted_chats[i-1][1] not in conves_ids:\n",
        "                conves_ids.append(sorted_chats[i-1][1])\n",
        "            conves_ids.append(sorted_chats[i][1])\n",
        "        elif (sorted_chats[i][0] - sorted_chats[i-1][0]) > 1:            \n",
        "            conves_dict[counter] = conves_ids\n",
        "            conves_ids = []\n",
        "        counter += 1\n",
        "    else:\n",
        "        pass"
      ],
      "execution_count": 0,
      "outputs": []
    },
    {
      "cell_type": "code",
      "metadata": {
        "id": "zU2vo04Us4Ia",
        "colab_type": "code",
        "colab": {}
      },
      "source": [
        "#conves_dict"
      ],
      "execution_count": 0,
      "outputs": []
    },
    {
      "cell_type": "code",
      "metadata": {
        "id": "36Z9SVsGtQS9",
        "colab_type": "code",
        "colab": {}
      },
      "source": [
        "context_and_target = []\n",
        "\n",
        "for conves in conves_dict.values():\n",
        "  if (len(conves) % 2) != 0:\n",
        "    conves = conves[:-1]\n",
        "    \n",
        "  for i in range(0, len(conves), 2):\n",
        "    context_and_target.append((conves[i], conves[i+1]))\n",
        "  \n"
      ],
      "execution_count": 0,
      "outputs": []
    },
    {
      "cell_type": "code",
      "metadata": {
        "id": "fmJQ4Pifwkf4",
        "colab_type": "code",
        "colab": {}
      },
      "source": [
        "#context_and_target"
      ],
      "execution_count": 0,
      "outputs": []
    },
    {
      "cell_type": "code",
      "metadata": {
        "id": "aXB_paQTwnXd",
        "colab_type": "code",
        "colab": {}
      },
      "source": [
        "context, target = zip(*context_and_target)"
      ],
      "execution_count": 0,
      "outputs": []
    },
    {
      "cell_type": "code",
      "metadata": {
        "id": "3dJDAX0Fw3jB",
        "colab_type": "code",
        "colab": {}
      },
      "source": [
        "context = list(context)\n",
        "target = list(target)"
      ],
      "execution_count": 0,
      "outputs": []
    },
    {
      "cell_type": "code",
      "metadata": {
        "id": "IwSDDK5Ew8Lp",
        "colab_type": "code",
        "colab": {}
      },
      "source": [
        "import re\n",
        "def clean_text(text):\n",
        "    '''Clean text by removing unnecessary characters and altering the format of words.'''\n",
        "\n",
        "    text = text.lower()\n",
        "    \n",
        "    text = re.sub(r\"i'm\", \"i am\", text)\n",
        "    text = re.sub(r\"he's\", \"he is\", text)\n",
        "    text = re.sub(r\"she's\", \"she is\", text)\n",
        "    text = re.sub(r\"it's\", \"it is\", text)\n",
        "    text = re.sub(r\"that's\", \"that is\", text)\n",
        "    text = re.sub(r\"what's\", \"that is\", text)\n",
        "    text = re.sub(r\"where's\", \"where is\", text)\n",
        "    text = re.sub(r\"how's\", \"how is\", text)\n",
        "    text = re.sub(r\"\\'ll\", \" will\", text)\n",
        "    text = re.sub(r\"\\'ve\", \" have\", text)\n",
        "    text = re.sub(r\"\\'re\", \" are\", text)\n",
        "    text = re.sub(r\"\\'d\", \" would\", text)\n",
        "    text = re.sub(r\"\\'re\", \" are\", text)\n",
        "    text = re.sub(r\"won't\", \"will not\", text)\n",
        "    text = re.sub(r\"can't\", \"cannot\", text)\n",
        "    text = re.sub(r\"n't\", \" not\", text)\n",
        "    text = re.sub(r\"n'\", \"ng\", text)\n",
        "    text = re.sub(r\"'bout\", \"about\", text)\n",
        "    text = re.sub(r\"'til\", \"until\", text)\n",
        "    text = re.sub(r\"[-()\\\"#/@;:<>{}`+=~|.!?,]\", \"\", text)\n",
        "    \n",
        "    return text"
      ],
      "execution_count": 0,
      "outputs": []
    },
    {
      "cell_type": "code",
      "metadata": {
        "id": "F81oSOANyAiC",
        "colab_type": "code",
        "colab": {}
      },
      "source": [
        "clean_target = []\n",
        "for targ in target:\n",
        "  clean_target.append(clean_text(targ))"
      ],
      "execution_count": 0,
      "outputs": []
    },
    {
      "cell_type": "code",
      "metadata": {
        "id": "hQn8TUs1ypl5",
        "colab_type": "code",
        "colab": {}
      },
      "source": [
        "clean_context =[]\n",
        "for cont in context:\n",
        "  clean_context.append(clean_text(cont))"
      ],
      "execution_count": 0,
      "outputs": []
    },
    {
      "cell_type": "code",
      "metadata": {
        "id": "5Y7C6KBNzFBH",
        "colab_type": "code",
        "colab": {}
      },
      "source": [
        "#clean_context"
      ],
      "execution_count": 0,
      "outputs": []
    },
    {
      "cell_type": "code",
      "metadata": {
        "id": "oF0lMIx7zHOh",
        "colab_type": "code",
        "colab": {}
      },
      "source": [
        "# Beggining of a sentence <BOS>  and End of Senctence <EOS>\n",
        "bos = '<BOS> '\n",
        "eos = ' <EOS>'\n",
        "\n",
        "final_target = [bos + targ + eos for targ in clean_target]\n",
        "final_context = [bos + cont + eos for cont in clean_context]\n"
      ],
      "execution_count": 0,
      "outputs": []
    },
    {
      "cell_type": "code",
      "metadata": {
        "id": "OUUFkDH04AU9",
        "colab_type": "code",
        "outputId": "bb2dd975-af64-4806-e752-96de7084a9c7",
        "colab": {
          "base_uri": "https://localhost:8080/",
          "height": 289
        }
      },
      "source": [
        "import codecs\n",
        "!wget https://github.com/samurainote/Automatic-Encoder-Decoder_Seq2Seq_Chatbot/raw/master/encoder_inputs.txt\n",
        "with codecs.open(\"encoder_inputs.txt\", 'rb', encoding = \"utf-8\", errors = \"ignore\") as f:\n",
        "  lines = f.read().split('\\n')\n",
        "  encoder_text = []\n",
        "  for line in lines:\n",
        "    data = line.split('\\n')[0]\n",
        "    encoder_text.append(data)"
      ],
      "execution_count": 17,
      "outputs": [
        {
          "output_type": "stream",
          "text": [
            "--2019-06-07 04:16:44--  https://github.com/samurainote/Automatic-Encoder-Decoder_Seq2Seq_Chatbot/raw/master/encoder_inputs.txt\n",
            "Resolving github.com (github.com)... 192.30.253.112\n",
            "Connecting to github.com (github.com)|192.30.253.112|:443... connected.\n",
            "HTTP request sent, awaiting response... 302 Found\n",
            "Location: https://raw.githubusercontent.com/samurainote/Automatic-Encoder-Decoder_Seq2Seq_Chatbot/master/encoder_inputs.txt [following]\n",
            "--2019-06-07 04:16:45--  https://raw.githubusercontent.com/samurainote/Automatic-Encoder-Decoder_Seq2Seq_Chatbot/master/encoder_inputs.txt\n",
            "Resolving raw.githubusercontent.com (raw.githubusercontent.com)... 151.101.0.133, 151.101.64.133, 151.101.128.133, ...\n",
            "Connecting to raw.githubusercontent.com (raw.githubusercontent.com)|151.101.0.133|:443... connected.\n",
            "HTTP request sent, awaiting response... 200 OK\n",
            "Length: 7854930 (7.5M) [text/plain]\n",
            "Saving to: ‘encoder_inputs.txt.2’\n",
            "\n",
            "\rencoder_inputs.txt.   0%[                    ]       0  --.-KB/s               \rencoder_inputs.txt. 100%[===================>]   7.49M  --.-KB/s    in 0.1s    \n",
            "\n",
            "2019-06-07 04:16:46 (75.8 MB/s) - ‘encoder_inputs.txt.2’ saved [7854930/7854930]\n",
            "\n"
          ],
          "name": "stdout"
        }
      ]
    },
    {
      "cell_type": "code",
      "metadata": {
        "id": "sfH4oy1x715L",
        "colab_type": "code",
        "outputId": "c819c3a6-5f10-4ab4-bafe-cc7d66f33dbd",
        "colab": {
          "base_uri": "https://localhost:8080/",
          "height": 34
        }
      },
      "source": [
        "encoder_text = encoder_text[0:14499]\n",
        "len(encoder_text)"
      ],
      "execution_count": 23,
      "outputs": [
        {
          "output_type": "execute_result",
          "data": {
            "text/plain": [
              "14499"
            ]
          },
          "metadata": {
            "tags": []
          },
          "execution_count": 23
        }
      ]
    },
    {
      "cell_type": "code",
      "metadata": {
        "id": "uXQ1J0klFUKw",
        "colab_type": "code",
        "colab": {}
      },
      "source": [
        "encoder_text"
      ],
      "execution_count": 0,
      "outputs": []
    },
    {
      "cell_type": "code",
      "metadata": {
        "id": "J7ONj0kz9Lsm",
        "colab_type": "code",
        "outputId": "724529c7-87a5-4f3c-8258-bd80e311f8cf",
        "colab": {
          "base_uri": "https://localhost:8080/",
          "height": 289
        }
      },
      "source": [
        "!wget https://github.com/samurainote/Automatic-Encoder-Decoder_Seq2Seq_Chatbot/raw/master/decoder_inputs.txt\n",
        "\n",
        "with codecs.open(\"decoder_inputs.txt\", 'rb', encoding = \"utf-8\", errors = \"ignore\") as f:\n",
        "  lines  = f.read().split('\\n')\n",
        "  decoder_text = []\n",
        "  for line in lines:\n",
        "    data = line.split('\\n')[0]\n",
        "    decoder_text.append(data) "
      ],
      "execution_count": 20,
      "outputs": [
        {
          "output_type": "stream",
          "text": [
            "--2019-06-07 04:16:51--  https://github.com/samurainote/Automatic-Encoder-Decoder_Seq2Seq_Chatbot/raw/master/decoder_inputs.txt\n",
            "Resolving github.com (github.com)... 192.30.253.112\n",
            "Connecting to github.com (github.com)|192.30.253.112|:443... connected.\n",
            "HTTP request sent, awaiting response... 302 Found\n",
            "Location: https://raw.githubusercontent.com/samurainote/Automatic-Encoder-Decoder_Seq2Seq_Chatbot/master/decoder_inputs.txt [following]\n",
            "--2019-06-07 04:16:52--  https://raw.githubusercontent.com/samurainote/Automatic-Encoder-Decoder_Seq2Seq_Chatbot/master/decoder_inputs.txt\n",
            "Resolving raw.githubusercontent.com (raw.githubusercontent.com)... 151.101.0.133, 151.101.64.133, 151.101.128.133, ...\n",
            "Connecting to raw.githubusercontent.com (raw.githubusercontent.com)|151.101.0.133|:443... connected.\n",
            "HTTP request sent, awaiting response... 200 OK\n",
            "Length: 9270194 (8.8M) [text/plain]\n",
            "Saving to: ‘decoder_inputs.txt.2’\n",
            "\n",
            "decoder_inputs.txt. 100%[===================>]   8.84M  --.-KB/s    in 0.1s    \n",
            "\n",
            "2019-06-07 04:16:53 (83.9 MB/s) - ‘decoder_inputs.txt.2’ saved [9270194/9270194]\n",
            "\n"
          ],
          "name": "stdout"
        }
      ]
    },
    {
      "cell_type": "code",
      "metadata": {
        "id": "jmukqbaj-KjD",
        "colab_type": "code",
        "outputId": "51cf86ff-2acc-4e47-943d-5c8ad7b8bc20",
        "colab": {
          "base_uri": "https://localhost:8080/",
          "height": 34
        }
      },
      "source": [
        "decoder_text = decoder_text[0:14499]\n",
        "len(decoder_text)"
      ],
      "execution_count": 24,
      "outputs": [
        {
          "output_type": "execute_result",
          "data": {
            "text/plain": [
              "14499"
            ]
          },
          "metadata": {
            "tags": []
          },
          "execution_count": 24
        }
      ]
    },
    {
      "cell_type": "code",
      "metadata": {
        "id": "jhQaN-8wHn_p",
        "colab_type": "code",
        "colab": {}
      },
      "source": [
        "decoder_text"
      ],
      "execution_count": 0,
      "outputs": []
    },
    {
      "cell_type": "code",
      "metadata": {
        "id": "P5tpJb2d-i8I",
        "colab_type": "code",
        "colab": {}
      },
      "source": [
        "full_text = encoder_text + decoder_text"
      ],
      "execution_count": 0,
      "outputs": []
    },
    {
      "cell_type": "code",
      "metadata": {
        "id": "y4FS6r8M_WPH",
        "colab_type": "code",
        "colab": {}
      },
      "source": [
        "# dictionary = []\n",
        "# print(\"Making dictionary of words.\\n\")\n",
        "# for text in full_text:\n",
        "#   words = text.split()\n",
        "#   for i in range(0,len(words)):\n",
        "#     if words[i] not in dictionary:\n",
        "#       dictionary.append(words[i])"
      ],
      "execution_count": 0,
      "outputs": []
    },
    {
      "cell_type": "code",
      "metadata": {
        "id": "6NVEww9p_2iK",
        "colab_type": "code",
        "outputId": "75192bd5-b3ab-42bd-efe1-4a027016cd64",
        "colab": {
          "base_uri": "https://localhost:8080/",
          "height": 34
        }
      },
      "source": [
        "from keras.preprocessing.text import Tokenizer"
      ],
      "execution_count": 28,
      "outputs": [
        {
          "output_type": "stream",
          "text": [
            "Using TensorFlow backend.\n"
          ],
          "name": "stderr"
        }
      ]
    },
    {
      "cell_type": "code",
      "metadata": {
        "id": "ZXA1tDiyCUqq",
        "colab_type": "code",
        "colab": {}
      },
      "source": [
        "vocab_size = 14500\n",
        "tokenizer = Tokenizer(num_words = vocab_size)"
      ],
      "execution_count": 0,
      "outputs": []
    },
    {
      "cell_type": "code",
      "metadata": {
        "id": "EMANi9XkComI",
        "colab_type": "code",
        "outputId": "0903be49-62c5-485d-e674-eb0faac717aa",
        "colab": {
          "base_uri": "https://localhost:8080/",
          "height": 34
        }
      },
      "source": [
        "tokenizer.fit_on_texts(full_text)\n",
        "word_index = tokenizer.word_index\n",
        "len(word_index)"
      ],
      "execution_count": 30,
      "outputs": [
        {
          "output_type": "execute_result",
          "data": {
            "text/plain": [
              "17294"
            ]
          },
          "metadata": {
            "tags": []
          },
          "execution_count": 30
        }
      ]
    },
    {
      "cell_type": "code",
      "metadata": {
        "id": "MEyxHTyQDBul",
        "colab_type": "code",
        "colab": {}
      },
      "source": [
        "index2word = {}\n",
        "for k,v in word_index.items():\n",
        "  if v<14500:\n",
        "    index2word[v] = k\n",
        "  if v>14500:\n",
        "    continue"
      ],
      "execution_count": 0,
      "outputs": []
    },
    {
      "cell_type": "code",
      "metadata": {
        "id": "uSbHsQVgGvns",
        "colab_type": "code",
        "colab": {}
      },
      "source": [
        "index2word"
      ],
      "execution_count": 0,
      "outputs": []
    },
    {
      "cell_type": "code",
      "metadata": {
        "id": "FIRuk9r3GwvT",
        "colab_type": "code",
        "colab": {}
      },
      "source": [
        "word2index = {}\n",
        "for k,v in index2word.items():\n",
        "  word2index[v] = k\n",
        "  "
      ],
      "execution_count": 0,
      "outputs": []
    },
    {
      "cell_type": "code",
      "metadata": {
        "id": "BWUL46-OH-Bv",
        "colab_type": "code",
        "outputId": "d7a46730-808f-47e1-c585-3ae427f21a48",
        "colab": {
          "base_uri": "https://localhost:8080/",
          "height": 34
        }
      },
      "source": [
        "len(word2index)"
      ],
      "execution_count": 38,
      "outputs": [
        {
          "output_type": "execute_result",
          "data": {
            "text/plain": [
              "14499"
            ]
          },
          "metadata": {
            "tags": []
          },
          "execution_count": 38
        }
      ]
    },
    {
      "cell_type": "code",
      "metadata": {
        "id": "PiGsMdMdH_pS",
        "colab_type": "code",
        "colab": {}
      },
      "source": [
        "encoder_sequences = tokenizer.texts_to_sequences(encoder_text)"
      ],
      "execution_count": 0,
      "outputs": []
    },
    {
      "cell_type": "code",
      "metadata": {
        "id": "U7dr1-FaIP0W",
        "colab_type": "code",
        "colab": {}
      },
      "source": [
        "decoder_sequences = tokenizer.texts_to_sequences(decoder_text)"
      ],
      "execution_count": 0,
      "outputs": []
    },
    {
      "cell_type": "code",
      "metadata": {
        "id": "chu64s2eIXEq",
        "colab_type": "code",
        "outputId": "7b822a4d-c861-498f-a8f0-ae0119697d8e",
        "colab": {
          "base_uri": "https://localhost:8080/",
          "height": 34
        }
      },
      "source": [
        "len(encoder_sequences)"
      ],
      "execution_count": 41,
      "outputs": [
        {
          "output_type": "execute_result",
          "data": {
            "text/plain": [
              "14499"
            ]
          },
          "metadata": {
            "tags": []
          },
          "execution_count": 41
        }
      ]
    },
    {
      "cell_type": "code",
      "metadata": {
        "id": "M4kE8Bg3IeNM",
        "colab_type": "code",
        "colab": {}
      },
      "source": [
        "for seqs in encoder_sequences:\n",
        "  for seq in seqs:\n",
        "    if seq>14499:\n",
        "      print(seq)\n",
        "      break"
      ],
      "execution_count": 0,
      "outputs": []
    },
    {
      "cell_type": "code",
      "metadata": {
        "id": "doYf5uABJLOE",
        "colab_type": "code",
        "outputId": "5454e496-37c9-45d3-fcb3-2b763a3f18bc",
        "colab": {
          "base_uri": "https://localhost:8080/",
          "height": 34
        }
      },
      "source": [
        "vocab_size = len(word2index)+1\n",
        "vocab_size "
      ],
      "execution_count": 43,
      "outputs": [
        {
          "output_type": "execute_result",
          "data": {
            "text/plain": [
              "14500"
            ]
          },
          "metadata": {
            "tags": []
          },
          "execution_count": 43
        }
      ]
    },
    {
      "cell_type": "code",
      "metadata": {
        "id": "IiYdFe_W9LPg",
        "colab_type": "code",
        "colab": {}
      },
      "source": [
        "decoder_output_data = None"
      ],
      "execution_count": 0,
      "outputs": []
    },
    {
      "cell_type": "code",
      "metadata": {
        "id": "hgR5lSfxJhFK",
        "colab_type": "code",
        "colab": {}
      },
      "source": [
        "import numpy as np\n",
        "max_len = 20\n",
        "num_samples = len(encoder_sequences)\n",
        "num_samples\n",
        "decoder_output_data = np.zeros((num_samples, max_len, vocab_size), dtype=\"float16\")\n"
      ],
      "execution_count": 0,
      "outputs": []
    },
    {
      "cell_type": "code",
      "metadata": {
        "id": "dtyVx2mTJcoa",
        "colab_type": "code",
        "colab": {}
      },
      "source": [
        "decoder_output_data"
      ],
      "execution_count": 0,
      "outputs": []
    },
    {
      "cell_type": "code",
      "metadata": {
        "id": "nVuaYBikSjyJ",
        "colab_type": "code",
        "colab": {}
      },
      "source": [
        "for i, seqs in enumerate(decoder_input_data):\n",
        "    for j, seq in enumerate(seqs):\n",
        "        if j > 0:\n",
        "            decoder_output_data[i][j][seq] = 1."
      ],
      "execution_count": 0,
      "outputs": []
    },
    {
      "cell_type": "code",
      "metadata": {
        "id": "JezJHojfKHMv",
        "colab_type": "code",
        "colab": {}
      },
      "source": [
        "from keras.preprocessing.sequence import pad_sequences\n",
        "encoder_input_data = pad_sequences(encoder_sequences, maxlen = max_len, dtype = 'int32', padding='post', truncating='post')\n",
        "decoder_input_data = pad_sequences(decoder_sequences, maxlen = max_len, dtype = 'int32', padding = 'post', truncating = 'post')"
      ],
      "execution_count": 0,
      "outputs": []
    },
    {
      "cell_type": "code",
      "metadata": {
        "id": "-ujlij4DSWEX",
        "colab_type": "code",
        "outputId": "62c855ff-07bf-4c79-d6a6-0a380dbb4ae2",
        "colab": {
          "base_uri": "https://localhost:8080/",
          "height": 51
        }
      },
      "source": [
        "decoder_input_data[0]"
      ],
      "execution_count": 48,
      "outputs": [
        {
          "output_type": "execute_result",
          "data": {
            "text/plain": [
              "array([ 1, 32,  2,  0,  0,  0,  0,  0,  0,  0,  0,  0,  0,  0,  0,  0,  0,\n",
              "        0,  0,  0], dtype=int32)"
            ]
          },
          "metadata": {
            "tags": []
          },
          "execution_count": 48
        }
      ]
    },
    {
      "cell_type": "code",
      "metadata": {
        "id": "rzxNtuj7kcT3",
        "colab_type": "code",
        "colab": {
          "base_uri": "https://localhost:8080/",
          "height": 476
        },
        "outputId": "6ee6ec2a-8db2-46b1-82f2-e569bec286a4"
      },
      "source": [
        "!wget http://nlp.stanford.edu/data/glove.6B.zip\n",
        "!unzip glove.6B.zip\n",
        "embeddings_index = {}\n",
        "with open('glove.6B.50d.txt', encoding='utf-8') as f:\n",
        "    for line in f:\n",
        "        values = line.split()\n",
        "        word = values[0]\n",
        "        coefs = np.asarray(values[1:], dtype='float32')\n",
        "        embeddings_index[word] = coefs\n",
        "    f.close()\n",
        "\n",
        "print(\"Glove Loded!\")"
      ],
      "execution_count": 53,
      "outputs": [
        {
          "output_type": "stream",
          "text": [
            "--2019-06-07 04:26:02--  http://nlp.stanford.edu/data/glove.6B.zip\n",
            "Resolving nlp.stanford.edu (nlp.stanford.edu)... 171.64.67.140\n",
            "Connecting to nlp.stanford.edu (nlp.stanford.edu)|171.64.67.140|:80... connected.\n",
            "HTTP request sent, awaiting response... 302 Found\n",
            "Location: https://nlp.stanford.edu/data/glove.6B.zip [following]\n",
            "--2019-06-07 04:26:02--  https://nlp.stanford.edu/data/glove.6B.zip\n",
            "Connecting to nlp.stanford.edu (nlp.stanford.edu)|171.64.67.140|:443... connected.\n",
            "HTTP request sent, awaiting response... 301 Moved Permanently\n",
            "Location: http://downloads.cs.stanford.edu/nlp/data/glove.6B.zip [following]\n",
            "--2019-06-07 04:26:02--  http://downloads.cs.stanford.edu/nlp/data/glove.6B.zip\n",
            "Resolving downloads.cs.stanford.edu (downloads.cs.stanford.edu)... 171.64.64.22\n",
            "Connecting to downloads.cs.stanford.edu (downloads.cs.stanford.edu)|171.64.64.22|:80... connected.\n",
            "HTTP request sent, awaiting response... 200 OK\n",
            "Length: 862182613 (822M) [application/zip]\n",
            "Saving to: ‘glove.6B.zip’\n",
            "\n",
            "glove.6B.zip        100%[===================>] 822.24M  14.1MB/s    in 67s     \n",
            "\n",
            "2019-06-07 04:27:09 (12.3 MB/s) - ‘glove.6B.zip’ saved [862182613/862182613]\n",
            "\n",
            "Archive:  glove.6B.zip\n",
            "replace glove.6B.50d.txt? [y]es, [n]o, [A]ll, [N]one, [r]ename: y\n",
            "  inflating: glove.6B.50d.txt        \n",
            "  inflating: glove.6B.100d.txt       \n",
            "  inflating: glove.6B.200d.txt       \n",
            "  inflating: glove.6B.300d.txt       \n",
            "Glove Loded!\n"
          ],
          "name": "stdout"
        }
      ]
    },
    {
      "cell_type": "code",
      "metadata": {
        "id": "yL0f_3GVkcW5",
        "colab_type": "code",
        "colab": {}
      },
      "source": [
        "embedding_dimention = 50\n",
        "def embedding_matrix_creater(embedding_dimention, word_index):\n",
        "    embedding_matrix = np.zeros((len(word_index) + 1, embedding_dimention))\n",
        "    for word, i in word_index.items():\n",
        "        embedding_vector = embeddings_index.get(word)\n",
        "        if embedding_vector is not None:\n",
        "          # words not found in embedding index will be all-zeros.\n",
        "            embedding_matrix[i] = embedding_vector\n",
        "    return embedding_matrix"
      ],
      "execution_count": 0,
      "outputs": []
    },
    {
      "cell_type": "code",
      "metadata": {
        "id": "LAADQOAOkcZ8",
        "colab_type": "code",
        "colab": {}
      },
      "source": [
        "embedding_matrix = embedding_matrix_creater(50, word_index=word2index)\n"
      ],
      "execution_count": 0,
      "outputs": []
    },
    {
      "cell_type": "code",
      "metadata": {
        "id": "Q48Ckh6QNSRG",
        "colab_type": "code",
        "colab": {}
      },
      "source": [
        "from keras.layers import Embedding\n",
        "from keras.layers import Input, Dense, LSTM, TimeDistributed\n",
        "from keras.models import Model"
      ],
      "execution_count": 0,
      "outputs": []
    },
    {
      "cell_type": "code",
      "metadata": {
        "id": "yfJXyqHzkcdx",
        "colab_type": "code",
        "colab": {
          "base_uri": "https://localhost:8080/",
          "height": 88
        },
        "outputId": "0e4c3a0b-eac8-4f8f-fe3f-8821eaf34d0d"
      },
      "source": [
        "embed_layer = Embedding(input_dim=vocab_size, output_dim=50, trainable=True,)\n",
        "embed_layer.build((None,))\n",
        "embed_layer.set_weights([embedding_matrix])"
      ],
      "execution_count": 59,
      "outputs": [
        {
          "output_type": "stream",
          "text": [
            "WARNING:tensorflow:From /usr/local/lib/python3.6/dist-packages/tensorflow/python/framework/op_def_library.py:263: colocate_with (from tensorflow.python.framework.ops) is deprecated and will be removed in a future version.\n",
            "Instructions for updating:\n",
            "Colocations handled automatically by placer.\n"
          ],
          "name": "stdout"
        }
      ]
    },
    {
      "cell_type": "code",
      "metadata": {
        "id": "1jw1C5xukcgt",
        "colab_type": "code",
        "colab": {}
      },
      "source": [
        "def seq2seq_model_builder(HIDDEN_DIM=300):\n",
        "    \n",
        "    encoder_inputs = Input(shape=(max_len, ), dtype='int32',)\n",
        "    encoder_embedding = embed_layer(encoder_inputs)\n",
        "    encoder_LSTM = LSTM(HIDDEN_DIM, return_state=True)\n",
        "    encoder_outputs, state_h, state_c = encoder_LSTM(encoder_embedding)\n",
        "    \n",
        "    decoder_inputs = Input(shape=(max_len, ), dtype='int32',)\n",
        "    decoder_embedding = embed_layer(decoder_inputs)\n",
        "    decoder_LSTM = LSTM(HIDDEN_DIM, return_state=True, return_sequences=True)\n",
        "    decoder_outputs, _, _ = decoder_LSTM(decoder_embedding, initial_state=[state_h, state_c])\n",
        "    \n",
        "    # dense_layer = Dense(VOCAB_SIZE, activation='softmax')\n",
        "    outputs = TimeDistributed(Dense(vocab_size, activation='softmax'))(decoder_outputs)\n",
        "    model = Model([encoder_inputs, decoder_inputs], outputs)\n",
        "    \n",
        "    return model"
      ],
      "execution_count": 0,
      "outputs": []
    },
    {
      "cell_type": "code",
      "metadata": {
        "id": "cx7jQ1Vrkcjd",
        "colab_type": "code",
        "colab": {}
      },
      "source": [
        "model = seq2seq_model_builder(HIDDEN_DIM=300)\n"
      ],
      "execution_count": 0,
      "outputs": []
    },
    {
      "cell_type": "code",
      "metadata": {
        "id": "NfFT2GvsNsSB",
        "colab_type": "code",
        "colab": {}
      },
      "source": [
        "from keras.utils import plot_model\n",
        "plot_model(model)"
      ],
      "execution_count": 0,
      "outputs": []
    },
    {
      "cell_type": "code",
      "metadata": {
        "id": "0IjUl05NNsVW",
        "colab_type": "code",
        "colab": {}
      },
      "source": [
        "model.compile(optimizer='adam', loss ='categorical_crossentropy', metrics = ['accuracy'])\n"
      ],
      "execution_count": 0,
      "outputs": []
    },
    {
      "cell_type": "code",
      "metadata": {
        "id": "TVuz0gN6NsY4",
        "colab_type": "code",
        "colab": {}
      },
      "source": [
        "BATCH_SIZE = 32\n",
        "EPOCHS = 5"
      ],
      "execution_count": 0,
      "outputs": []
    },
    {
      "cell_type": "code",
      "metadata": {
        "id": "WVWpcnjcNscA",
        "colab_type": "code",
        "colab": {
          "base_uri": "https://localhost:8080/",
          "height": 34
        },
        "outputId": "28e266e9-d38c-4a82-cb01-db6a92c16199"
      },
      "source": [
        "encoder_input_data.shape\n"
      ],
      "execution_count": 67,
      "outputs": [
        {
          "output_type": "execute_result",
          "data": {
            "text/plain": [
              "(14499, 20)"
            ]
          },
          "metadata": {
            "tags": []
          },
          "execution_count": 67
        }
      ]
    },
    {
      "cell_type": "code",
      "metadata": {
        "id": "gXMW9mRyNsis",
        "colab_type": "code",
        "colab": {
          "base_uri": "https://localhost:8080/",
          "height": 258
        },
        "outputId": "ec0160c2-9bb3-49bb-bbf6-5d3ae3b4111a"
      },
      "source": [
        "history = model.fit([encoder_input_data, decoder_input_data], \n",
        "                     decoder_output_data, \n",
        "                     epochs=EPOCHS, \n",
        "                     batch_size=BATCH_SIZE)"
      ],
      "execution_count": 68,
      "outputs": [
        {
          "output_type": "stream",
          "text": [
            "WARNING:tensorflow:From /usr/local/lib/python3.6/dist-packages/tensorflow/python/ops/math_ops.py:3066: to_int32 (from tensorflow.python.ops.math_ops) is deprecated and will be removed in a future version.\n",
            "Instructions for updating:\n",
            "Use tf.cast instead.\n",
            "Epoch 1/5\n",
            "14499/14499 [==============================] - 57s 4ms/step - loss: 3.0342 - acc: 0.5312\n",
            "Epoch 2/5\n",
            "14499/14499 [==============================] - 54s 4ms/step - loss: 2.0992 - acc: 0.6408\n",
            "Epoch 3/5\n",
            "14499/14499 [==============================] - 54s 4ms/step - loss: 1.5192 - acc: 0.7556\n",
            "Epoch 4/5\n",
            "14499/14499 [==============================] - 54s 4ms/step - loss: 1.1340 - acc: 0.8103\n",
            "Epoch 5/5\n",
            "14499/14499 [==============================] - 55s 4ms/step - loss: 0.8065 - acc: 0.8488\n"
          ],
          "name": "stdout"
        }
      ]
    },
    {
      "cell_type": "code",
      "metadata": {
        "id": "xDuz3ONDOOdl",
        "colab_type": "code",
        "colab": {}
      },
      "source": [
        "BATCH_SIZE = 64\n",
        "EPOCHS = 8"
      ],
      "execution_count": 0,
      "outputs": []
    },
    {
      "cell_type": "code",
      "metadata": {
        "id": "NSiBVSN8OOg0",
        "colab_type": "code",
        "colab": {
          "base_uri": "https://localhost:8080/",
          "height": 289
        },
        "outputId": "5270187c-efe9-4076-bf93-2d27e91d209b"
      },
      "source": [
        "history = model.fit([encoder_input_data, decoder_input_data], \n",
        "                     decoder_output_data, \n",
        "                     epochs=EPOCHS, \n",
        "                     batch_size=BATCH_SIZE)"
      ],
      "execution_count": 70,
      "outputs": [
        {
          "output_type": "stream",
          "text": [
            "Epoch 1/8\n",
            "14499/14499 [==============================] - 43s 3ms/step - loss: 0.5812 - acc: 0.8768\n",
            "Epoch 2/8\n",
            "14499/14499 [==============================] - 43s 3ms/step - loss: 0.4651 - acc: 0.8915\n",
            "Epoch 3/8\n",
            "14499/14499 [==============================] - 43s 3ms/step - loss: 0.3672 - acc: 0.9044\n",
            "Epoch 4/8\n",
            "14499/14499 [==============================] - 43s 3ms/step - loss: 0.2855 - acc: 0.9153\n",
            "Epoch 5/8\n",
            "14499/14499 [==============================] - 43s 3ms/step - loss: 0.2188 - acc: 0.9245\n",
            "Epoch 6/8\n",
            "14499/14499 [==============================] - 43s 3ms/step - loss: 0.1651 - acc: 0.9321\n",
            "Epoch 7/8\n",
            "14499/14499 [==============================] - 43s 3ms/step - loss: 0.1224 - acc: 0.9382\n",
            "Epoch 8/8\n",
            "14499/14499 [==============================] - 43s 3ms/step - loss: 0.0889 - acc: 0.9441\n"
          ],
          "name": "stdout"
        }
      ]
    },
    {
      "cell_type": "code",
      "metadata": {
        "id": "hCCOE1tnOOkJ",
        "colab_type": "code",
        "colab": {
          "base_uri": "https://localhost:8080/",
          "height": 404
        },
        "outputId": "802d9235-4348-4f09-8465-87275c241295"
      },
      "source": [
        "import matplotlib.pyplot as plt\n",
        "%matplotlib inline\n",
        "\n",
        "plt.figure(figsize=(10, 6))\n",
        "plt.plot(history.history['acc'])\n",
        "#plt.plot(history.history['val_acc'])\n",
        "plt.title('model accuracy')\n",
        "plt.ylabel('accuracy')\n",
        "plt.xlabel('epoch')\n",
        "# plt.legend(['train', 'test'], loc='upper left')\n",
        "plt.show()"
      ],
      "execution_count": 71,
      "outputs": [
        {
          "output_type": "display_data",
          "data": {
            "image/png": "[encoded data removed]",
            "text/plain": [
              "<Figure size 720x432 with 1 Axes>"
            ]
          },
          "metadata": {
            "tags": []
          }
        }
      ]
    },
    {
      "cell_type": "code",
      "metadata": {
        "id": "FAa2wOphOOqc",
        "colab_type": "code",
        "colab": {
          "base_uri": "https://localhost:8080/",
          "height": 404
        },
        "outputId": "b5372e21-2436-4a12-f06d-1b007972192d"
      },
      "source": [
        "\n",
        "# 損失関数の可視化\n",
        "plt.figure(figsize=(10, 6))\n",
        "plt.plot(history.history['loss'])\n",
        "# plt.plot(history.history['val_loss'])\n",
        "plt.title('model loss')\n",
        "plt.ylabel('loss')\n",
        "plt.xlabel('epoch')\n",
        "# plt.legend(['train', 'test'], loc='upper left')\n",
        "plt.show()"
      ],
      "execution_count": 72,
      "outputs": [
        {
          "output_type": "display_data",
          "data": {
            "image/png": "[encoded data removed]",
            "text/plain": [
              "<Figure size 720x432 with 1 Axes>"
            ]
          },
          "metadata": {
            "tags": []
          }
        }
      ]
    },
    {
      "cell_type": "code",
      "metadata": {
        "id": "58x36LasOOth",
        "colab_type": "code",
        "colab": {
          "base_uri": "https://localhost:8080/",
          "height": 129
        },
        "outputId": "14d9694b-446c-4ff2-f703-6b8d73f82710"
      },
      "source": [
        "with open('seq2seq.json',\"w\").write(model.to_json())\n",
        "\n",
        "# 重みの読み込み\n",
        "model.load_weights('seq2seq.h5')\n",
        "print(\"Saved Model!\")"
      ],
      "execution_count": 73,
      "outputs": [
        {
          "output_type": "error",
          "ename": "SyntaxError",
          "evalue": "ignored",
          "traceback": [
            "\u001b[0;36m  File \u001b[0;32m\"<ipython-input-73-15e957d0646d>\"\u001b[0;36m, line \u001b[0;32m1\u001b[0m\n\u001b[0;31m    with open('seq2seq.json',\"w\").write(model.to_json())\u001b[0m\n\u001b[0m                                                        ^\u001b[0m\n\u001b[0;31mSyntaxError\u001b[0m\u001b[0;31m:\u001b[0m invalid syntax\n"
          ]
        }
      ]
    },
    {
      "cell_type": "code",
      "metadata": {
        "id": "PS3-gu8DOOwy",
        "colab_type": "code",
        "colab": {
          "base_uri": "https://localhost:8080/",
          "height": 88
        },
        "outputId": "a88a180b-2e01-49cf-f870-37ebf467ac95"
      },
      "source": [
        "model_json = model.to_json()\n",
        "with open(\"model.json\", \"w\") as json_file:\n",
        "    json_file.write(model_json)\n",
        "\n",
        "model.save_weights(\"chatbot_model.h5\")\n",
        "print(\"Saved Model!\")"
      ],
      "execution_count": 74,
      "outputs": [
        {
          "output_type": "stream",
          "text": [
            "Saved Model!\n"
          ],
          "name": "stdout"
        },
        {
          "output_type": "stream",
          "text": [
            "/usr/local/lib/python3.6/dist-packages/keras/engine/network.py:877: UserWarning: Layer lstm_2 was passed non-serializable keyword arguments: {'initial_state': [<tf.Tensor 'lstm_1/while/Exit_3:0' shape=(?, 300) dtype=float32>, <tf.Tensor 'lstm_1/while/Exit_4:0' shape=(?, 300) dtype=float32>]}. They will not be included in the serialized model (and thus will be missing at deserialization time).\n",
            "  '. They will not be included '\n"
          ],
          "name": "stderr"
        }
      ]
    },
    {
      "cell_type": "code",
      "metadata": {
        "id": "0y_fQqPFOO0A",
        "colab_type": "code",
        "colab": {
          "base_uri": "https://localhost:8080/",
          "height": 71
        },
        "outputId": "d6c5669b-cbea-4df5-e807-3ba2feb0269c"
      },
      "source": [
        "json_string = model.to_json()\n",
        "open('seq2seq.json', 'w').write(json_string)\n",
        "model.save_weights('seq2seq_weights.h5')"
      ],
      "execution_count": 75,
      "outputs": [
        {
          "output_type": "stream",
          "text": [
            "/usr/local/lib/python3.6/dist-packages/keras/engine/network.py:877: UserWarning: Layer lstm_2 was passed non-serializable keyword arguments: {'initial_state': [<tf.Tensor 'lstm_1/while/Exit_3:0' shape=(?, 300) dtype=float32>, <tf.Tensor 'lstm_1/while/Exit_4:0' shape=(?, 300) dtype=float32>]}. They will not be included in the serialized model (and thus will be missing at deserialization time).\n",
            "  '. They will not be included '\n"
          ],
          "name": "stderr"
        }
      ]
    },
    {
      "cell_type": "code",
      "metadata": {
        "id": "C3_GMImLOO3U",
        "colab_type": "code",
        "colab": {}
      },
      "source": [
        ""
      ],
      "execution_count": 0,
      "outputs": []
    },
    {
      "cell_type": "code",
      "metadata": {
        "id": "-8HUNaRROO65",
        "colab_type": "code",
        "colab": {}
      },
      "source": [
        ""
      ],
      "execution_count": 0,
      "outputs": []
    },
    {
      "cell_type": "code",
      "metadata": {
        "id": "v9P8VUoEOO-u",
        "colab_type": "code",
        "colab": {}
      },
      "source": [
        ""
      ],
      "execution_count": 0,
      "outputs": []
    },
    {
      "cell_type": "code",
      "metadata": {
        "id": "fn4h8k1AOPBu",
        "colab_type": "code",
        "colab": {}
      },
      "source": [
        ""
      ],
      "execution_count": 0,
      "outputs": []
    },
    {
      "cell_type": "code",
      "metadata": {
        "id": "vVlD3zATOPIO",
        "colab_type": "code",
        "colab": {}
      },
      "source": [
        ""
      ],
      "execution_count": 0,
      "outputs": []
    },
    {
      "cell_type": "code",
      "metadata": {
        "id": "jAeKd4wdOPL7",
        "colab_type": "code",
        "colab": {}
      },
      "source": [
        ""
      ],
      "execution_count": 0,
      "outputs": []
    },
    {
      "cell_type": "code",
      "metadata": {
        "id": "H0pUf7v8OPOx",
        "colab_type": "code",
        "colab": {}
      },
      "source": [
        ""
      ],
      "execution_count": 0,
      "outputs": []
    },
    {
      "cell_type": "code",
      "metadata": {
        "id": "SaK_ARAcOPSR",
        "colab_type": "code",
        "colab": {}
      },
      "source": [
        ""
      ],
      "execution_count": 0,
      "outputs": []
    },
    {
      "cell_type": "code",
      "metadata": {
        "id": "wcrY7qz3OPE_",
        "colab_type": "code",
        "colab": {}
      },
      "source": [
        ""
      ],
      "execution_count": 0,
      "outputs": []
    },
    {
      "cell_type": "code",
      "metadata": {
        "id": "uNjmrF-9OOnq",
        "colab_type": "code",
        "colab": {}
      },
      "source": [
        ""
      ],
      "execution_count": 0,
      "outputs": []
    },
    {
      "cell_type": "code",
      "metadata": {
        "id": "g2CKnE6uSyN0",
        "colab_type": "code",
        "colab": {}
      },
      "source": [
        "!wget https://www.dropbox.com/sh/o0rze9dulwmon8b/AAAEKe0FpShNMsLAJsuTY8Pwa/my_model_weights_bot.h5"
      ],
      "execution_count": 0,
      "outputs": []
    },
    {
      "cell_type": "code",
      "metadata": {
        "id": "nDPzXXtmVwzd",
        "colab_type": "code",
        "colab": {}
      },
      "source": [
        "!wget https://www.dropbox.com/sh/o0rze9dulwmon8b/AADiuIuRIHbB2-i9l_BewYoFa/my_model_weights_discriminator.h5"
      ],
      "execution_count": 0,
      "outputs": []
    },
    {
      "cell_type": "code",
      "metadata": {
        "id": "kjchlUNkV-33",
        "colab_type": "code",
        "colab": {}
      },
      "source": [
        "!wget https://www.dropbox.com/sh/o0rze9dulwmon8b/AAC3o1KWTAi0uETciZcy4-ava/my_model_weights.h5"
      ],
      "execution_count": 0,
      "outputs": []
    },
    {
      "cell_type": "code",
      "metadata": {
        "id": "wzA9VAvtWeQo",
        "colab_type": "code",
        "colab": {}
      },
      "source": [
        "!wget https://www.dropbox.com/sh/o0rze9dulwmon8b/AAAaJ1dHJ4Xke_QHl3gUeuyBa/my_model_weights20.h5"
      ],
      "execution_count": 0,
      "outputs": []
    },
    {
      "cell_type": "code",
      "metadata": {
        "id": "VPqLxZKQWk2w",
        "colab_type": "code",
        "colab": {}
      },
      "source": [
        ""
      ],
      "execution_count": 0,
      "outputs": []
    },
    {
      "cell_type": "code",
      "metadata": {
        "id": "gyVKKu0bka40",
        "colab_type": "code",
        "colab": {}
      },
      "source": [
        ""
      ],
      "execution_count": 0,
      "outputs": []
    },
    {
      "cell_type": "code",
      "metadata": {
        "id": "7kCkNgLIka-s",
        "colab_type": "code",
        "colab": {}
      },
      "source": [
        ""
      ],
      "execution_count": 0,
      "outputs": []
    },
    {
      "cell_type": "code",
      "metadata": {
        "id": "fyUcs4TYkbBi",
        "colab_type": "code",
        "colab": {}
      },
      "source": [
        ""
      ],
      "execution_count": 0,
      "outputs": []
    },
    {
      "cell_type": "code",
      "metadata": {
        "id": "zZsojo_uka7u",
        "colab_type": "code",
        "colab": {}
      },
      "source": [
        ""
      ],
      "execution_count": 0,
      "outputs": []
    }
  ]
}